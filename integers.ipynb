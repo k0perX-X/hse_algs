{
 "cells": [
  {
   "metadata": {
    "ExecuteTime": {
     "end_time": "2025-03-29T07:35:17.573367Z",
     "start_time": "2025-03-29T07:35:17.568389Z"
    }
   },
   "cell_type": "code",
   "source": [
    "import numpy as np\n",
    "import pandas as pd\n",
    "import numba as nb\n",
    "from typing import List\n",
    "import math\n",
    "from fractions import Fraction\n",
    "\n",
    "from numpy import ndarray\n",
    "\n",
    "np.seterr(divide='ignore')"
   ],
   "id": "cb353a15564d36f3",
   "outputs": [
    {
     "data": {
      "text/plain": [
       "{'divide': 'ignore', 'over': 'warn', 'under': 'ignore', 'invalid': 'warn'}"
      ]
     },
     "execution_count": 91,
     "metadata": {},
     "output_type": "execute_result"
    }
   ],
   "execution_count": 91
  },
  {
   "cell_type": "code",
   "id": "initial_id",
   "metadata": {
    "collapsed": true,
    "ExecuteTime": {
     "end_time": "2025-03-29T06:46:48.618913Z",
     "start_time": "2025-03-29T06:46:48.616369Z"
    }
   },
   "source": [
    "U = {\n",
    "    (4, 'Маг'): {\n",
    "        'Z': 5,\n",
    "        'D': 3,\n",
    "        'K': 4,\n",
    "    },\n",
    "    (5, 'Рыцарь'): {\n",
    "        'Z': 4,\n",
    "        'D': 5,\n",
    "        'K': 7,\n",
    "    },\n",
    "    (50, 'Дракон'): {\n",
    "        'Z': 50,\n",
    "        'D': 35,\n",
    "        'K': 45,\n",
    "    }\n",
    "}\n",
    "\n",
    "R = {\n",
    "    'Z': 450,\n",
    "    'D': 300,\n",
    "    'K': 500,\n",
    "}"
   ],
   "outputs": [],
   "execution_count": 2
  },
  {
   "metadata": {},
   "cell_type": "markdown",
   "source": "# Тупой перебор",
   "id": "570cafcc41a93f4e"
  },
  {
   "metadata": {
    "ExecuteTime": {
     "end_time": "2025-03-29T06:46:48.924620Z",
     "start_time": "2025-03-29T06:46:48.920163Z"
    }
   },
   "cell_type": "code",
   "source": [
    "s = np.array([u[0] for u in U]).astype('float64')\n",
    "p = np.array([[Uvv for Uvk, Uvv in Uv.items()] for Uk, Uv in U.items()]).astype('float64')\n",
    "r = np.array([Rv for Rk, Rv in R.items()]).astype('float64')\n",
    "\n",
    "print(s)\n",
    "print(p)\n",
    "print(r)"
   ],
   "id": "25873ec4d771319d",
   "outputs": [
    {
     "name": "stdout",
     "output_type": "stream",
     "text": [
      "[ 4.  5. 50.]\n",
      "[[ 5.  3.  4.]\n",
      " [ 4.  5.  7.]\n",
      " [50. 35. 45.]]\n",
      "[450. 300. 500.]\n"
     ]
    }
   ],
   "execution_count": 3
  },
  {
   "metadata": {
    "ExecuteTime": {
     "end_time": "2025-03-29T06:46:51.053834Z",
     "start_time": "2025-03-29T06:46:48.933196Z"
    }
   },
   "cell_type": "code",
   "source": [
    "@nb.njit('float64[:](float64[:], float64[:,:], float64[:])', parallel=True)\n",
    "def dump(powers, prices, resources):\n",
    "    best = 0\n",
    "    best_x = np.zeros_like(powers)\n",
    "\n",
    "    # maxes = np.floor(np.min(1 / np.divide(prices, resources.T), axis=1))\n",
    "    maxes = np.floor(np.array([np.min(r) for r in 1 / np.divide(prices, resources.T)]))\n",
    "\n",
    "    for X1 in range(0, int(maxes[0])):\n",
    "        for X2 in range(0, int(maxes[1])):\n",
    "            # print(resources - (prices[0] * X1 + prices[1] * X2), prices[2])\n",
    "            x = np.array(\n",
    "                [X1, X2, np.floor(np.min(np.divide(resources - (prices[0] * X1 + prices[1] * X2), prices[2])))])\n",
    "            strength = np.sum(np.multiply(powers, x))\n",
    "            if strength > best:\n",
    "                best = strength\n",
    "                best_x = x\n",
    "                # print(strength, x)\n",
    "    return best_x\n",
    "\n",
    "\n",
    "d = dump(s, p, r)\n",
    "d, np.sum(np.multiply(s, d)), np.sum(np.multiply(p.T, d), axis=1), r - np.sum(np.multiply(p.T, d), axis=1)"
   ],
   "id": "5c8cf7ca996707b",
   "outputs": [
    {
     "data": {
      "text/plain": [
       "(array([5., 1., 8.]),\n",
       " np.float64(425.0),\n",
       " array([429., 300., 387.]),\n",
       " array([ 21.,   0., 113.]))"
      ]
     },
     "execution_count": 4,
     "metadata": {},
     "output_type": "execute_result"
    }
   ],
   "execution_count": 4
  },
  {
   "metadata": {
    "ExecuteTime": {
     "end_time": "2025-03-29T06:47:15.442826Z",
     "start_time": "2025-03-29T06:46:51.085523Z"
    }
   },
   "cell_type": "code",
   "source": [
    "@nb.njit('(float64[:], float64[:,:], float64[:])')\n",
    "def test(s, p, r):\n",
    "    for i in range(100):\n",
    "        dump(s, p, r)\n",
    "\n",
    "\n",
    "test(s, p, r)"
   ],
   "id": "f0f9ead5fadc211b",
   "outputs": [],
   "execution_count": 5
  },
  {
   "metadata": {},
   "cell_type": "markdown",
   "source": "Интересно, что процессор занят в 100%, но при этом потребление в ватах как в простое. Очевидно, что процессор вместо дела сидит и ждет когда ему освободят данные.",
   "id": "c14949a25e5f1a03"
  },
  {
   "metadata": {
    "ExecuteTime": {
     "end_time": "2025-03-29T06:47:15.451511Z",
     "start_time": "2025-03-29T06:47:15.449397Z"
    }
   },
   "cell_type": "code",
   "source": [
    "# @nb.njit('(float64[:], float64[:,:], float64[:])', parallel=True)\n",
    "# def test(s, p, r):\n",
    "#     for i in range(100):\n",
    "#         dump(s, p, r)\n",
    "#\n",
    "#\n",
    "# # test(s, p, r)\n",
    "# test.parallel_diagnostics(level=4)"
   ],
   "id": "e802ea30d4e6e30e",
   "outputs": [],
   "execution_count": 6
  },
  {
   "metadata": {
    "ExecuteTime": {
     "end_time": "2025-03-29T06:47:16.009911Z",
     "start_time": "2025-03-29T06:47:15.460333Z"
    }
   },
   "cell_type": "code",
   "source": [
    "@nb.njit('float64[:](float64[:], float64[:,:], float64[:])')\n",
    "def dump(powers, prices, resources):\n",
    "    best = 0\n",
    "    best_x = np.zeros_like(powers)\n",
    "\n",
    "    # maxes = np.floor(np.min(1 / np.divide(prices, resources.T), axis=1))\n",
    "    maxes = np.floor(np.array([np.min(r) for r in 1 / np.divide(prices, resources.T)]))\n",
    "\n",
    "    for X1 in range(0, int(maxes[0])):\n",
    "        for X2 in range(0, int(maxes[1])):\n",
    "            # print(resources - (prices[0] * X1 + prices[1] * X2), prices[2])\n",
    "            x = np.array(\n",
    "                [X1, X2, np.floor(np.min(np.divide(resources - (prices[0] * X1 + prices[1] * X2), prices[2])))])\n",
    "            strength = np.sum(np.multiply(powers, x))\n",
    "            if strength > best:\n",
    "                best = strength\n",
    "                best_x = x\n",
    "                # print(strength, x)\n",
    "    return best_x\n",
    "\n",
    "\n",
    "d = dump(s, p, r)\n",
    "d, np.sum(np.multiply(s, d)), np.sum(np.multiply(p.T, d), axis=1), r - np.sum(np.multiply(p.T, d), axis=1)"
   ],
   "id": "c888285454e1a4df",
   "outputs": [
    {
     "data": {
      "text/plain": [
       "(array([5., 1., 8.]),\n",
       " np.float64(425.0),\n",
       " array([429., 300., 387.]),\n",
       " array([ 21.,   0., 113.]))"
      ]
     },
     "execution_count": 7,
     "metadata": {},
     "output_type": "execute_result"
    }
   ],
   "execution_count": 7
  },
  {
   "metadata": {
    "ExecuteTime": {
     "end_time": "2025-03-29T06:47:53.340119200Z",
     "start_time": "2025-03-29T06:47:16.014644Z"
    }
   },
   "cell_type": "code",
   "source": [
    "@nb.njit('(float64[:], float64[:,:], float64[:])')\n",
    "def test(s, p, r):\n",
    "    for i in range(1000):\n",
    "        dump(s, p, r)\n",
    "\n",
    "\n",
    "test(s, p, r)"
   ],
   "id": "b1247f1bdad0f03e",
   "outputs": [],
   "execution_count": 8
  },
  {
   "metadata": {
    "ExecuteTime": {
     "end_time": "2025-03-29T06:47:17.131733Z",
     "start_time": "2025-03-29T06:47:17.089936Z"
    }
   },
   "cell_type": "code",
   "source": [
    "def dump(powers, prices, resources):\n",
    "    best = 0\n",
    "    best_x = np.zeros_like(powers)\n",
    "\n",
    "    maxes = np.floor(np.min(1 / np.divide(prices, resources.T), axis=1))\n",
    "    # maxes = np.floor(np.array([np.min(r) for r in 1 / np.divide(prices, resources.T)]))\n",
    "\n",
    "    for X1 in range(0, int(maxes[0])):\n",
    "        for X2 in range(0, int(maxes[1])):\n",
    "            # print(resources - (prices[0] * X1 + prices[1] * X2), prices[2])\n",
    "            x = np.array(\n",
    "                [X1, X2, np.floor(np.min(np.divide(resources - (prices[0] * X1 + prices[1] * X2), prices[2])))])\n",
    "            strength = np.sum(np.multiply(powers, x))\n",
    "            if strength > best:\n",
    "                best = strength\n",
    "                best_x = x\n",
    "                # print(strength, x)\n",
    "    return best_x\n",
    "\n",
    "\n",
    "d = dump(s, p, r)\n",
    "d, np.sum(np.multiply(s, d)), np.sum(np.multiply(p.T, d), axis=1), r - np.sum(np.multiply(p.T, d), axis=1)"
   ],
   "id": "11fb2672dbd2015d",
   "outputs": [
    {
     "data": {
      "text/plain": [
       "(array([5., 1., 8.]),\n",
       " np.float64(425.0),\n",
       " array([429., 300., 387.]),\n",
       " array([ 21.,   0., 113.]))"
      ]
     },
     "execution_count": 9,
     "metadata": {},
     "output_type": "execute_result"
    }
   ],
   "execution_count": 9
  },
  {
   "metadata": {
    "ExecuteTime": {
     "end_time": "2025-03-29T06:47:53.298307Z",
     "start_time": "2025-03-29T06:47:17.137065Z"
    }
   },
   "cell_type": "code",
   "source": [
    "def test(s, p, r):\n",
    "    for i in range(1000):\n",
    "        dump(s, p, r)\n",
    "\n",
    "\n",
    "test(s, p, r)"
   ],
   "id": "9b9a9c85e3f1267d",
   "outputs": [],
   "execution_count": 10
  },
  {
   "metadata": {},
   "cell_type": "markdown",
   "source": "# Метод Гомори",
   "id": "b248570dccb7f541"
  },
  {
   "metadata": {
    "ExecuteTime": {
     "end_time": "2025-03-29T08:25:37.681564Z",
     "start_time": "2025-03-29T08:25:37.668005Z"
    }
   },
   "cell_type": "code",
   "source": [
    "def gomori_max(table: np.ndarray, columns: List[str] = None, rows: List[str] = None) -> dict:\n",
    "    iteration = 0\n",
    "    columns = ['free'] + [f'X{i}' for i in range(1, table.shape[1])] if columns is None else columns\n",
    "    rows = [f'X{i + table.shape[1]}' for i in range(table.shape[0] - 1)] + ['F'] if rows is None else rows\n",
    "    table = np.array(table).copy()\n",
    "    table = table + Fraction()\n",
    "    prev_leading_col = None\n",
    "    r = np.vectorize(round)\n",
    "\n",
    "    start_table = pd.DataFrame(table, columns=columns, index=rows)\n",
    "    # max_iter = math.e ** np.sum(start_table.shape)\n",
    "\n",
    "    print(iteration)\n",
    "    print(start_table)\n",
    "\n",
    "    def step(table: np.ndarray, columns: List[str], rows: List[str], leading_row=None, leading_col=None, optimization=True) -> dict:\n",
    "        nonlocal iteration, prev_leading_col\n",
    "\n",
    "        iteration += 1\n",
    "        print(\"iteration:\", iteration)\n",
    "        # print(pd.DataFrame(table, columns=columns, index=rows))\n",
    "\n",
    "        table2 = table.copy()\n",
    "        # if prev_leading_col is not None:\n",
    "        #     table2[0, prev_leading_col] = 0\n",
    "\n",
    "        if leading_col is None:\n",
    "            leading_col = np.where(table2[-1, 1:] <= 0)[0][0] + 1 if optimization and sum(table2[-1, 1:] <= 0) == 1 \\\n",
    "                else np.abs(table2[:-1, 1:]).argmax() % (table.shape[1] - 1) + 1\n",
    "\n",
    "        prev_leading_col = leading_col\n",
    "\n",
    "        if leading_row is None:\n",
    "            col = np.divide(table2.T[0, :-1], table2.T[leading_col, :-1])\n",
    "            col[np.logical_and(table2.T[0, :-1] >= 0, table2.T[leading_col, :-1] <= 0)] = np.inf\n",
    "            leading_row = np.abs(col).argmin()\n",
    "\n",
    "            # print(\"col:\", col)\n",
    "\n",
    "        table2[0] = table[leading_row] / table[leading_row, leading_col]\n",
    "        table2[0, leading_col] = 1 / table[leading_row, leading_col]\n",
    "        auxiliary = -table.T[leading_col]\n",
    "        auxiliary = np.delete(auxiliary, leading_row)\n",
    "        table = np.delete(table, leading_row, axis=0)\n",
    "        table.T[leading_col] = 0\n",
    "\n",
    "        for i in range(auxiliary.shape[0]):\n",
    "            table2[i + 1] = table2[0] * auxiliary[i] + table[i]\n",
    "\n",
    "        table = table2\n",
    "\n",
    "        changed_col = columns[leading_col]\n",
    "        columns[leading_col] = rows.pop(leading_row)\n",
    "        rows.insert(0, changed_col)\n",
    "\n",
    "        print(\"leading col, row:\", leading_col, leading_row)\n",
    "        print(pd.DataFrame(table, columns=columns, index=rows))\n",
    "        print(auxiliary)\n",
    "\n",
    "        return table\n",
    "\n",
    "    while np.sum(table[-1] >= 0) < table.shape[1]:\n",
    "        table = step(table, columns, rows)\n",
    "\n",
    "    target_row = table[np.isin(rows, start_table.columns)]\n",
    "    print(target_row)\n",
    "    target_row = target_row[np.abs(target_row[:, 0] - r(target_row[:, 0])) != 0]\n",
    "\n",
    "    while len(target_row) > 0:\n",
    "        target_row = target_row - np.floor(target_row)\n",
    "        target_row = target_row[target_row[:, 0].argmax()]\n",
    "        rows.insert(len(rows) - 1, f'A{np.sum(table.shape) - np.sum(start_table.shape) + 1}')\n",
    "        table = np.insert(table, [len(rows) - 2], -target_row, axis=0)\n",
    "        print(\"iteration:\", iteration + 0.5)\n",
    "        print(pd.DataFrame(table, columns=columns, index=rows))\n",
    "        table = step(table, columns, rows, optimization=False)\n",
    "        while np.sum(table[-1] >= 0) < table.shape[1]:\n",
    "            table = step(table, columns, rows)\n",
    "        target_row = table[np.isin(rows, start_table.columns)]\n",
    "        target_row = target_row[np.abs(target_row[:, 0] - r(target_row[:, 0])) != 0]\n",
    "\n",
    "    print(\"iterations:\", iteration)\n",
    "    values = pd.DataFrame(table, columns=columns, index=rows).iloc[:, 0].round().astype(int).to_dict()\n",
    "    for i in range(1, len(columns)):\n",
    "        values[columns[i]] = 0\n",
    "    return values\n",
    "\n",
    "\n",
    "gomori_max(np.array([\n",
    "    [6, 2, 1],\n",
    "    [5, 1, 4],\n",
    "    [0, -3, -2],\n",
    "]).astype(float))"
   ],
   "id": "d7dd37b360158077",
   "outputs": [
    {
     "name": "stdout",
     "output_type": "stream",
     "text": [
      "0\n",
      "   free   X1   X2\n",
      "X3  6.0  2.0  1.0\n",
      "X4  5.0  1.0  4.0\n",
      "F   0.0 -3.0 -2.0\n",
      "iteration: 1\n",
      "leading col, row: 2 1\n",
      "    free    X1    X4\n",
      "X2  1.25  0.25  0.25\n",
      "X3  4.75  1.75 -0.25\n",
      "F    2.5  -2.5   0.5\n",
      "[-1.0 2.0]\n",
      "iteration: 2\n",
      "leading col, row: 1 1\n",
      "        free        X3        X4\n",
      "X1  2.714286  0.571429 -0.142857\n",
      "X2  0.571429 -0.142857  0.285714\n",
      "F   9.285714  1.428571  0.142857\n",
      "[-0.25 2.5]\n",
      "[[2.7142857142857144 0.5714285714285714 -0.14285714285714285]\n",
      " [0.5714285714285714 -0.14285714285714285 0.2857142857142857]]\n",
      "iteration: 2.5\n",
      "        free        X3        X4\n",
      "X1  2.714286  0.571429 -0.142857\n",
      "X2  0.571429 -0.142857  0.285714\n",
      "A1 -0.714286 -0.571429 -0.857143\n",
      "F   9.285714  1.428571  0.142857\n",
      "iteration: 3\n",
      "leading col, row: 2 2\n",
      "        free        X3        A1\n",
      "X4  0.833333  0.666667 -1.166667\n",
      "X1  2.833333  0.666667 -0.166667\n",
      "X2  0.333333 -0.333333  0.333333\n",
      "F   9.166667  1.333333  0.166667\n",
      "[0.14285714285714285 -0.2857142857142857 -0.1428571428571429]\n",
      "iteration: 3.5\n",
      "        free        X3        A1\n",
      "X4  0.833333  0.666667 -1.166667\n",
      "X1  2.833333  0.666667 -0.166667\n",
      "X2  0.333333 -0.333333  0.333333\n",
      "A2 -0.833333 -0.666667 -0.833333\n",
      "F   9.166667  1.333333  0.166667\n",
      "iteration: 4\n",
      "leading col, row: 2 2\n",
      "   free   X3   X2\n",
      "A1  1.0 -1.0  3.0\n",
      "X4  2.0 -0.5  3.5\n",
      "X1  3.0  0.5  0.5\n",
      "A2  0.0 -1.5  2.5\n",
      "F   9.0  1.5 -0.5\n",
      "[1.1666666666666665 0.16666666666666663 0.8333333333333334\n",
      " -0.1666666666666667]\n",
      "iterations: 4\n"
     ]
    },
    {
     "data": {
      "text/plain": [
       "{'A1': 1, 'X4': 2, 'X1': 3, 'A2': 0, 'F': 9, 'X3': 0, 'X2': 0}"
      ]
     },
     "execution_count": 113,
     "metadata": {},
     "output_type": "execute_result"
    }
   ],
   "execution_count": 113
  },
  {
   "metadata": {
    "ExecuteTime": {
     "end_time": "2025-03-29T08:24:22.358423Z",
     "start_time": "2025-03-29T08:24:22.354795Z"
    }
   },
   "cell_type": "code",
   "source": [
    "Xs = [[Rv] + [Uv[Rk] for Uk, Uv in U.items()] for Rk, Rv in R.items()] + [[0] + [-Uk[0] for Uk, Uv in U.items()]]\n",
    "np.array(Xs)"
   ],
   "id": "72f82727a038440b",
   "outputs": [
    {
     "data": {
      "text/plain": [
       "array([[450,   5,   4,  50],\n",
       "       [300,   3,   5,  35],\n",
       "       [500,   4,   7,  45],\n",
       "       [  0,  -4,  -5, -50]])"
      ]
     },
     "execution_count": 111,
     "metadata": {},
     "output_type": "execute_result"
    }
   ],
   "execution_count": 111
  },
  {
   "metadata": {
    "ExecuteTime": {
     "end_time": "2025-03-29T08:24:23.187651Z",
     "start_time": "2025-03-29T08:24:23.180932Z"
    }
   },
   "cell_type": "code",
   "source": [
    "j = gomori_max(Xs, rows=['Z', 'D', 'K', 'F'], columns=['free', 'X1', 'X2', 'X3'])\n",
    "j = {i: j[i] for i in ['Z', 'D', 'K', 'F'] + ['X1', 'X2', 'X3'] + ['F']}\n",
    "j"
   ],
   "id": "3ff9158b0486f465",
   "outputs": [
    {
     "name": "stdout",
     "output_type": "stream",
     "text": [
      "0\n",
      "  free  X1  X2   X3\n",
      "Z  450   5   4   50\n",
      "D  300   3   5   35\n",
      "K  500   4   7   45\n",
      "F    0  -4  -5  -50\n",
      "iteration: 1\n",
      "leading col, row: 3 1\n",
      "      free    X1     X2      D\n",
      "X3    60/7  3/35    1/7   1/35\n",
      "Z    150/7   5/7  -22/7  -10/7\n",
      "K    800/7   1/7    4/7   -9/7\n",
      "F   3000/7   2/7   15/7   10/7\n",
      "[Fraction(-50, 1) Fraction(-45, 1) Fraction(50, 1)]\n",
      "[[Fraction(60, 7) Fraction(3, 35) Fraction(1, 7) Fraction(1, 35)]]\n",
      "iteration: 1.5\n",
      "      free     X1     X2      D\n",
      "X3    60/7   3/35    1/7   1/35\n",
      "Z    150/7    5/7  -22/7  -10/7\n",
      "K    800/7    1/7    4/7   -9/7\n",
      "A1    -4/7  -3/35   -1/7  -1/35\n",
      "F   3000/7    2/7   15/7   10/7\n",
      "iteration: 2\n",
      "leading col, row: 2 3\n",
      "   free    X1   A1     D\n",
      "X2    4   3/5   -7   1/5\n",
      "X3    8     0    1     0\n",
      "Z    34  13/5  -22  -4/5\n",
      "K   112  -1/5    4  -7/5\n",
      "F   420    -1   15     1\n",
      "[Fraction(-1, 7) Fraction(22, 7) Fraction(-4, 7) Fraction(-15, 7)]\n",
      "iterations: 2\n"
     ]
    },
    {
     "data": {
      "text/plain": [
       "{'Z': 34, 'D': 0, 'K': 112, 'F': 420, 'X1': 0, 'X2': 4, 'X3': 8}"
      ]
     },
     "execution_count": 112,
     "metadata": {},
     "output_type": "execute_result"
    }
   ],
   "execution_count": 112
  },
  {
   "metadata": {
    "ExecuteTime": {
     "end_time": "2025-03-29T08:22:38.401735Z",
     "start_time": "2025-03-29T08:22:38.392412Z"
    }
   },
   "cell_type": "code",
   "source": [
    "table = Xs\n",
    "rows=['Z', 'D', 'K', 'F']\n",
    "columns=['free', 'X1', 'X2', 'X3']\n",
    "\n",
    "iteration = 0\n",
    "columns = ['free'] + [f'X{i}' for i in range(1, table.shape[1])] if columns is None else columns\n",
    "rows = [f'X{i + table.shape[1]}' for i in range(table.shape[0] - 1)] + ['F'] if rows is None else rows\n",
    "table = np.array(table).copy()\n",
    "table = table + Fraction()\n",
    "prev_leading_col = None\n",
    "\n",
    "start_table = pd.DataFrame(table, columns=columns, index=rows)\n",
    "# max_iter = math.e ** np.sum(start_table.shape)\n",
    "\n",
    "print(iteration)\n",
    "print(start_table)\n",
    "\n",
    "def step(table: np.ndarray, columns: List[str], rows: List[str], leading_row=None, leading_col=None, optimization=True) -> dict:\n",
    "    global iteration, prev_leading_col\n",
    "\n",
    "    iteration += 1\n",
    "    print(\"iteration:\", iteration)\n",
    "    # print(pd.DataFrame(table, columns=columns, index=rows))\n",
    "\n",
    "    table2 = table.copy()\n",
    "    if prev_leading_col is not None:\n",
    "        table2[0, prev_leading_col] = 0\n",
    "\n",
    "    if leading_col is None:\n",
    "        leading_col = np.where(table2[-1, 1:] <= 0)[0][0] + 1 if optimization and sum(table2[-1, 1:] <= 0) == 1 \\\n",
    "            else np.abs(table2[:-1, 1:]).argmax() % (table.shape[1] - 1) + 1\n",
    "\n",
    "    prev_leading_col = leading_col\n",
    "\n",
    "    if leading_row is None:\n",
    "        col = np.divide(table2.T[0, :-1], table2.T[leading_col, :-1])\n",
    "        col[np.logical_and(table2.T[0, :-1] >= 0, table2.T[leading_col, :-1] <= 0)] = np.inf\n",
    "        leading_row = np.abs(col).argmin()\n",
    "\n",
    "        # print(\"col:\", col)\n",
    "\n",
    "    table2[0] = table[leading_row] / table[leading_row, leading_col]\n",
    "    table2[0, leading_col] = 1 / table[leading_row, leading_col]\n",
    "    auxiliary = -table.T[leading_col]\n",
    "    auxiliary = np.delete(auxiliary, leading_row)\n",
    "    table = np.delete(table, leading_row, axis=0)\n",
    "    table.T[leading_col] = 0\n",
    "\n",
    "    for i in range(auxiliary.shape[0]):\n",
    "        table2[i + 1] = table2[0] * auxiliary[i] + table[i]\n",
    "\n",
    "    table = table2\n",
    "\n",
    "    changed_col = columns[leading_col]\n",
    "    columns[leading_col] = rows.pop(leading_row)\n",
    "    rows.insert(0, changed_col)\n",
    "\n",
    "    print(\"leading col, row:\", leading_col, leading_row)\n",
    "    print(pd.DataFrame(table, columns=columns, index=rows))\n",
    "    print(auxiliary)\n",
    "\n",
    "    return table\n",
    "\n",
    "while np.sum(table[-1] >= 0) < table.shape[1]:\n",
    "    table = step(table, columns, rows)\n",
    "\n",
    "target_row: np.ndarray = table[np.isin(rows, start_table.columns)]\n",
    "\n",
    "r(target_row)"
   ],
   "id": "e52c4c48ef155150",
   "outputs": [
    {
     "name": "stdout",
     "output_type": "stream",
     "text": [
      "0\n",
      "  free  X1  X2   X3\n",
      "Z  450   5   4   50\n",
      "D  300   3   5   35\n",
      "K  500   4   7   45\n",
      "F    0  -4  -5  -50\n",
      "iteration: 1\n",
      "leading col, row: 3 1\n",
      "      free    X1     X2      D\n",
      "X3    60/7  3/35    1/7   1/35\n",
      "Z    150/7   5/7  -22/7  -10/7\n",
      "K    800/7   1/7    4/7   -9/7\n",
      "F   3000/7   2/7   15/7   10/7\n",
      "[Fraction(-50, 1) Fraction(-45, 1) Fraction(50, 1)]\n"
     ]
    },
    {
     "data": {
      "text/plain": [
       "array([[9, 0, 0, 0]])"
      ]
     },
     "execution_count": 104,
     "metadata": {},
     "output_type": "execute_result"
    }
   ],
   "execution_count": 104
  },
  {
   "metadata": {
    "ExecuteTime": {
     "end_time": "2025-03-29T07:11:08.051850Z",
     "start_time": "2025-03-29T07:11:08.047938Z"
    }
   },
   "cell_type": "code",
   "source": [
    "while np.sum(table[-1] >= 0) < table.shape[1]:\n",
    "    table = step(table, columns, rows)"
   ],
   "id": "b01a069d2fa670a6",
   "outputs": [
    {
     "name": "stdout",
     "output_type": "stream",
     "text": [
      "iteration: 3\n",
      "leading col, row: 1 0\n",
      "          free            X2         A1             D\n",
      "X1    6.666667  1.666667e+00 -11.666667  3.333333e-01\n",
      "X3    8.000000  2.312965e-17   1.000000  4.625929e-18\n",
      "Z    16.666667 -4.333333e+00   8.333333 -1.666667e+00\n",
      "K   113.333333  3.333333e-01   1.666667 -1.333333e+00\n",
      "F   426.666667  1.666667e+00   3.333333  1.333333e+00\n",
      "[ 1.38777878e-17 -2.60000000e+00  2.00000000e-01  1.00000000e+00]\n"
     ]
    }
   ],
   "execution_count": 50
  },
  {
   "metadata": {
    "ExecuteTime": {
     "end_time": "2025-03-29T07:11:09.461968Z",
     "start_time": "2025-03-29T07:11:09.457993Z"
    }
   },
   "cell_type": "code",
   "source": [
    "target_row = table[np.isin(rows, start_table.columns)]\n",
    "target_row = target_row[np.abs(target_row[:, 0] - np.round(target_row[:, 0])) >= 1.e-14]\n",
    "target_row = target_row - np.floor(target_row)\n",
    "target_row = target_row[target_row[:, 0].argmax()]\n",
    "target_row"
   ],
   "id": "6bc8690a5e36f297",
   "outputs": [
    {
     "data": {
      "text/plain": [
       "array([0.66666667, 0.66666667, 0.33333333, 0.33333333])"
      ]
     },
     "execution_count": 51,
     "metadata": {},
     "output_type": "execute_result"
    }
   ],
   "execution_count": 51
  },
  {
   "metadata": {
    "ExecuteTime": {
     "end_time": "2025-03-29T07:11:10.774988Z",
     "start_time": "2025-03-29T07:11:10.769803Z"
    }
   },
   "cell_type": "code",
   "source": [
    "rows.insert(len(rows) - 1, f'A{np.sum(table.shape) - np.sum(start_table.shape) + 1}')\n",
    "table = np.insert(table, [len(rows) - 2], -target_row, axis=0)\n",
    "print(\"iteration:\", iteration + 0.5)\n",
    "print(pd.DataFrame(table, columns=columns, index=rows))\n",
    "table = step(table, columns, rows, optimization=False)"
   ],
   "id": "74a7f702b8499040",
   "outputs": [
    {
     "name": "stdout",
     "output_type": "stream",
     "text": [
      "iteration: 3.5\n",
      "          free            X2         A1             D\n",
      "X1    6.666667  1.666667e+00 -11.666667  3.333333e-01\n",
      "X3    8.000000  2.312965e-17   1.000000  4.625929e-18\n",
      "Z    16.666667 -4.333333e+00   8.333333 -1.666667e+00\n",
      "K   113.333333  3.333333e-01   1.666667 -1.333333e+00\n",
      "A2   -0.666667 -6.666667e-01  -0.333333 -3.333333e-01\n",
      "F   426.666667  1.666667e+00   3.333333  1.333333e+00\n",
      "iteration: 4\n",
      "leading col, row: 2 4\n",
      "            free    X2    A2     D\n",
      "A1  2.000000e+00   2.0  -3.0   1.0\n",
      "X1  3.000000e+01  25.0 -35.0  12.0\n",
      "X3  6.000000e+00  -2.0   3.0  -1.0\n",
      "Z   2.415845e-13 -21.0  25.0 -10.0\n",
      "K   1.100000e+02  -3.0   5.0  -3.0\n",
      "F   4.200000e+02  -5.0  10.0  -2.0\n",
      "[11.66666667 -1.         -8.33333333 -1.66666667 -3.33333333]\n"
     ]
    }
   ],
   "execution_count": 52
  },
  {
   "metadata": {
    "ExecuteTime": {
     "end_time": "2025-03-29T07:11:11.622952Z",
     "start_time": "2025-03-29T07:11:11.618318Z"
    }
   },
   "cell_type": "code",
   "source": [
    "while np.sum(table[-1] >= 0) < table.shape[1]:\n",
    "    table = step(table, columns, rows)"
   ],
   "id": "af574a579a40dd33",
   "outputs": [
    {
     "name": "stdout",
     "output_type": "stream",
     "text": [
      "iteration: 5\n",
      "leading col, row: 2 3\n",
      "            free    X2     Z    D\n",
      "A2  9.663381e-15 -0.84  0.04 -0.4\n",
      "A1  2.000000e+00 -0.52  0.12 -0.2\n",
      "X1  3.000000e+01 -4.40  1.40 -2.0\n",
      "X3  6.000000e+00  0.52 -0.12  0.2\n",
      "K   1.100000e+02  1.20 -0.20 -1.0\n",
      "F   4.200000e+02  3.40 -0.40  2.0\n",
      "[  3.  35.  -3.  -5. -10.]\n",
      "iteration: 6\n",
      "leading col, row: 2 1\n",
      "          free            X2         A1             D\n",
      "Z    16.666667 -4.333333e+00   8.333333 -1.666667e+00\n",
      "A2   -0.666667 -6.666667e-01  -0.333333 -3.333333e-01\n",
      "X1    6.666667  1.666667e+00 -11.666667  3.333333e-01\n",
      "X3    8.000000 -2.220446e-16   1.000000 -1.110223e-16\n",
      "K   113.333333  3.333333e-01   1.666667 -1.333333e+00\n",
      "F   426.666667  1.666667e+00   3.333333  1.333333e+00\n",
      "[-0.04 -1.4   0.12  0.2   0.4 ]\n"
     ]
    }
   ],
   "execution_count": 53
  },
  {
   "metadata": {
    "ExecuteTime": {
     "end_time": "2025-03-29T07:11:17.129379Z",
     "start_time": "2025-03-29T07:11:17.125504Z"
    }
   },
   "cell_type": "code",
   "source": [
    "target_row = table[np.isin(rows, start_table.columns)]\n",
    "target_row = target_row[np.abs(target_row[:, 0] - np.round(target_row[:, 0])) >= 1.e-14]\n",
    "target_row = target_row - np.floor(target_row)\n",
    "target_row = target_row[target_row[:, 0].argmax()]\n",
    "target_row"
   ],
   "id": "f5e1f98f5065b19f",
   "outputs": [
    {
     "data": {
      "text/plain": [
       "array([0.66666667, 0.66666667, 0.33333333, 0.33333333])"
      ]
     },
     "execution_count": 54,
     "metadata": {},
     "output_type": "execute_result"
    }
   ],
   "execution_count": 54
  },
  {
   "metadata": {
    "ExecuteTime": {
     "end_time": "2025-03-29T07:11:35.875261Z",
     "start_time": "2025-03-29T07:11:35.869457Z"
    }
   },
   "cell_type": "code",
   "source": [
    "rows.insert(len(rows) - 1, f'A{np.sum(table.shape) - np.sum(start_table.shape) + 1}')\n",
    "table = np.insert(table, [len(rows) - 2], -target_row, axis=0)\n",
    "print(\"iteration:\", iteration + 0.5)\n",
    "print(pd.DataFrame(table, columns=columns, index=rows))\n",
    "table = step(table, columns, rows, optimization=False)"
   ],
   "id": "40eef43d4f258785",
   "outputs": [
    {
     "name": "stdout",
     "output_type": "stream",
     "text": [
      "iteration: 6.5\n",
      "          free            X2         A1             D\n",
      "Z    16.666667 -4.333333e+00   8.333333 -1.666667e+00\n",
      "A2   -0.666667 -6.666667e-01  -0.333333 -3.333333e-01\n",
      "X1    6.666667  1.666667e+00 -11.666667  3.333333e-01\n",
      "X3    8.000000 -2.220446e-16   1.000000 -1.110223e-16\n",
      "K   113.333333  3.333333e-01   1.666667 -1.333333e+00\n",
      "A3   -0.666667 -6.666667e-01  -0.333333 -3.333333e-01\n",
      "F   426.666667  1.666667e+00   3.333333  1.333333e+00\n",
      "iteration: 7\n",
      "leading col, row: 2 1\n",
      "            free            X2    A2             D\n",
      "A1  2.000000e+00  2.000000e+00  -3.0  1.000000e+00\n",
      "Z   2.380318e-13 -2.100000e+01  25.0 -1.000000e+01\n",
      "X1  3.000000e+01  2.500000e+01 -35.0  1.200000e+01\n",
      "X3  6.000000e+00 -2.000000e+00   3.0 -1.000000e+00\n",
      "K   1.100000e+02 -3.000000e+00   5.0 -3.000000e+00\n",
      "A3 -1.776357e-15 -4.440892e-16  -1.0  1.221245e-15\n",
      "F   4.200000e+02 -5.000000e+00  10.0 -2.000000e+00\n",
      "[-8.33333333 11.66666667 -1.         -1.66666667  0.33333333 -3.33333333]\n"
     ]
    }
   ],
   "execution_count": 55
  },
  {
   "metadata": {},
   "cell_type": "code",
   "outputs": [],
   "execution_count": null,
   "source": "",
   "id": "feb8268f30c7b49c"
  }
 ],
 "metadata": {
  "kernelspec": {
   "display_name": "Python 3",
   "language": "python",
   "name": "python3"
  },
  "language_info": {
   "codemirror_mode": {
    "name": "ipython",
    "version": 2
   },
   "file_extension": ".py",
   "mimetype": "text/x-python",
   "name": "python",
   "nbconvert_exporter": "python",
   "pygments_lexer": "ipython2",
   "version": "2.7.6"
  }
 },
 "nbformat": 4,
 "nbformat_minor": 5
}
