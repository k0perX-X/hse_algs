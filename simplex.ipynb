{
 "cells": [
  {
   "metadata": {
    "ExecuteTime": {
     "end_time": "2025-03-26T17:51:13.722831Z",
     "start_time": "2025-03-26T17:51:13.504176Z"
    }
   },
   "cell_type": "code",
   "source": [
    "import numpy as np\n",
    "import pandas as pd\n",
    "from typing import List\n",
    "# from numba import jit\n",
    "# import numba\n",
    "\n",
    "np.seterr(divide='ignore')"
   ],
   "id": "850c0d25cac70355",
   "outputs": [
    {
     "data": {
      "text/plain": [
       "{'divide': 'warn', 'over': 'warn', 'under': 'ignore', 'invalid': 'warn'}"
      ]
     },
     "execution_count": 2,
     "metadata": {},
     "output_type": "execute_result"
    }
   ],
   "execution_count": 2
  },
  {
   "metadata": {
    "ExecuteTime": {
     "end_time": "2025-03-26T19:45:33.531064Z",
     "start_time": "2025-03-26T19:45:33.520855Z"
    }
   },
   "cell_type": "code",
   "source": [
    "def simplex_max(table: np.ndarray, columns: List[str] = None, rows: List[str] = None) -> dict:\n",
    "    iteration = 0\n",
    "    columns = ['free'] + [f'X{i}' for i in range(1, table.shape[1])] if columns is None else columns\n",
    "    rows = [f'X{i + table.shape[1]}' for i in range(table.shape[0] - 1)] + ['F'] if rows is None else rows\n",
    "    table = np.array(table).copy().astype(float)\n",
    "    leading_col = None\n",
    "\n",
    "    start_table = pd.DataFrame(table, columns=columns, index=rows)\n",
    "\n",
    "    print(\"iteration:\", iteration)\n",
    "    print(start_table)\n",
    "\n",
    "    while np.sum(table[-1] >= 0) < table.shape[1]:\n",
    "        iteration += 1\n",
    "        print(\"iteration:\", iteration)\n",
    "\n",
    "        table2 = table.copy()\n",
    "        # if leading_col is not None:\n",
    "        #     table2[0, leading_col] = 0\n",
    "\n",
    "        # leading_col = abs(table2[:-1, 1:]).argmax() % (table.shape[1] - 1) + 1 \\\n",
    "        #     if sum(table2[-1] <= 0) > 1 or table2[-1, 0] < 0 else np.where(table2[-1] <= 0)[0][0]\n",
    "        leading_col = np.where(table2[-1, 1:] <= 0)[0][0] + 1 if sum(table2[-1, 1:] <= 0) == 1 \\\n",
    "            else np.abs(table2[:-1, 1:]).argmax() % (table.shape[1] - 1) + 1\n",
    "\n",
    "        col = np.divide(table2.T[0], table2.T[leading_col])\n",
    "        col[np.logical_and(table2.T[0] >= 0, table2.T[leading_col] < 0)] = np.inf\n",
    "        # if sum(np.isinf(col)) == table.shape[0]:\n",
    "        #     print(table)\n",
    "        #     print(table2)\n",
    "        #     print(leading_col)\n",
    "        #     print(col)\n",
    "        #     raise Exception\n",
    "        leading_row = np.abs(col).argmin()\n",
    "\n",
    "        # print(table)\n",
    "        # print(col)\n",
    "        # print(leading_col, leading_row)\n",
    "\n",
    "        table2[0] = table[leading_row] / table[leading_row, leading_col]\n",
    "        table2[0, leading_col] = 1 / table[leading_row, leading_col]\n",
    "        auxiliary = -table.T[leading_col]\n",
    "        auxiliary = np.delete(auxiliary, leading_row)\n",
    "        table = np.delete(table, leading_row, axis=0)\n",
    "        table.T[leading_col] = 0\n",
    "\n",
    "        for i in range(auxiliary.shape[0]):\n",
    "            table2[i + 1] = table2[0] * auxiliary[i] + table[i]\n",
    "\n",
    "        table = table2\n",
    "\n",
    "        changed_col = columns[leading_col]\n",
    "        columns[leading_col] = rows.pop(leading_row)\n",
    "        rows.insert(0, changed_col)\n",
    "\n",
    "        print(\"leading_col:\", leading_col)\n",
    "        print(pd.DataFrame(table, columns=columns, index=rows))\n",
    "        print(auxiliary)\n",
    "        # input()\n",
    "\n",
    "    values = pd.DataFrame(table, columns=columns, index=rows).iloc[:, 0].to_dict()\n",
    "    for i in range(1, len(columns)):\n",
    "        values[columns[i]] = 0\n",
    "    return values\n",
    "\n",
    "\n",
    "simplex_max(np.array([\n",
    "    [-2, 1, -2],\n",
    "    [-4, -1, -1],\n",
    "    [2, 1, -1],\n",
    "    [6, 0, 1],\n",
    "    [0, -1, -2],\n",
    "]).astype(float))"
   ],
   "id": "cd871bef11061ef3",
   "outputs": [
    {
     "name": "stdout",
     "output_type": "stream",
     "text": [
      "iteration: 0\n",
      "    free   X1   X2\n",
      "X3  -2.0  1.0 -2.0\n",
      "X4  -4.0 -1.0 -1.0\n",
      "X5   2.0  1.0 -1.0\n",
      "X6   6.0  0.0  1.0\n",
      "F    0.0 -1.0 -2.0\n",
      "iteration: 1\n",
      "leading_col: 2\n",
      "    free   X1   X3\n",
      "X2   1.0 -0.5 -0.5\n",
      "X4  -3.0 -1.5 -0.5\n",
      "X5   3.0  0.5 -0.5\n",
      "X6   5.0  0.5  0.5\n",
      "F    2.0 -2.0 -1.0\n",
      "[ 1.  1. -1.  2.]\n",
      "iteration: 2\n",
      "leading_col: 1\n",
      "    free        X4        X3\n",
      "X1   2.0 -0.666667  0.333333\n",
      "X2   2.0 -0.333333 -0.333333\n",
      "X5   2.0  0.333333 -0.666667\n",
      "X6   4.0  0.333333  0.333333\n",
      "F    6.0 -1.333333 -0.333333\n",
      "[ 0.5 -0.5 -0.5  2. ]\n",
      "iteration: 3\n",
      "leading_col: 1\n",
      "    free   X5   X3\n",
      "X4   6.0  3.0 -2.0\n",
      "X1   6.0  2.0 -1.0\n",
      "X2   4.0  1.0 -1.0\n",
      "X6   2.0 -1.0  1.0\n",
      "F   14.0  4.0 -3.0\n",
      "[ 0.66666667  0.33333333 -0.33333333  1.33333333]\n",
      "iteration: 4\n",
      "leading_col: 2\n",
      "    free   X5   X6\n",
      "X3   2.0 -1.0  1.0\n",
      "X4  10.0  1.0  2.0\n",
      "X1   8.0  1.0  1.0\n",
      "X2   6.0  0.0  1.0\n",
      "F   20.0  1.0  3.0\n",
      "[2. 1. 1. 3.]\n"
     ]
    },
    {
     "data": {
      "text/plain": [
       "{'X3': 2.0, 'X4': 10.0, 'X1': 8.0, 'X2': 6.0, 'F': 20.0, 'X5': 0, 'X6': 0}"
      ]
     },
     "execution_count": 7,
     "metadata": {},
     "output_type": "execute_result"
    }
   ],
   "execution_count": 7
  },
  {
   "metadata": {},
   "cell_type": "markdown",
   "source": [
    "sum(Ui[0] * Xi) -> max\n",
    "\n",
    "sum(U[y] * Xi) - R[y] >= 0\n",
    "\n",
    "X > 0"
   ],
   "id": "74415f85b610d0ba"
  },
  {
   "metadata": {},
   "cell_type": "markdown",
   "source": [
    "U1 * X1 + U2 * X2 + U3 * X3 -> max\n",
    "\n",
    "U1z * X1 + U2z * X2 + U3z * X3 <= Rz\n",
    "\n",
    "U1d * X1 + U2d * X2 + U3d * X3 <= Rd\n",
    "\n",
    "U1k * X1 + U2k * X2 + U3k * X3 <= Rk"
   ],
   "id": "b3ee97113db43129"
  },
  {
   "metadata": {},
   "cell_type": "markdown",
   "source": [
    "U1z * X1 + U2z * X2 + U3z * X3 + Z = Rz\n",
    "\n",
    "U1d * X1 + U2d * X2 + U3d * X3 + D = Rd\n",
    "\n",
    "U1k * X1 + U2k * X2 + U3k * X3 + K = Rk"
   ],
   "id": "96425a657da3f8d5"
  },
  {
   "metadata": {},
   "cell_type": "markdown",
   "source": [
    "F = 0 - (-U1 * X1 - U2 * X2 - U3 * X3)\n",
    "\n",
    "Z = Rz - (U1z * X1 + U2z * X2 + U3z * X3)\n",
    "\n",
    "D = Rd - (-U1d * X1 + U2d * X2 + U3d * X3)\n",
    "\n",
    "K = Rk - (-U1k * X1 + U2k * X2 + U3k * X3)"
   ],
   "id": "46cecc5f795122c2"
  },
  {
   "metadata": {
    "collapsed": true,
    "ExecuteTime": {
     "end_time": "2025-03-26T19:45:36.770736Z",
     "start_time": "2025-03-26T19:45:36.768528Z"
    }
   },
   "cell_type": "code",
   "source": [
    "U = {\n",
    "    (4, 'Маг'): {\n",
    "        'Z': 5,\n",
    "        'D': 3,\n",
    "        'K': 4,\n",
    "    },\n",
    "    (5, 'Рыцарь'): {\n",
    "        'Z': 4,\n",
    "        'D': 5,\n",
    "        'K': 7,\n",
    "    },\n",
    "    (200, 'Дракон'): {\n",
    "        'Z': 50,\n",
    "        'D': 35,\n",
    "        'K': 40,\n",
    "    }\n",
    "}\n",
    "\n",
    "R = {\n",
    "    'Z': 400,\n",
    "    'D': 300,\n",
    "    'K': 500,\n",
    "}"
   ],
   "id": "initial_id",
   "outputs": [],
   "execution_count": 8
  },
  {
   "metadata": {
    "ExecuteTime": {
     "end_time": "2025-03-26T19:45:37.625952Z",
     "start_time": "2025-03-26T19:45:37.622838Z"
    }
   },
   "cell_type": "code",
   "source": [
    "Xs = [[Rv] + [Uv[Rk] for Uk, Uv in U.items()] for Rk, Rv in R.items()] + [[0] + [-Uk[0] for Uk, Uv in U.items()]]\n",
    "np.array(Xs)"
   ],
   "id": "42f29f5e121a7e56",
   "outputs": [
    {
     "data": {
      "text/plain": [
       "array([[ 400,    5,    4,   50],\n",
       "       [ 300,    3,    5,   35],\n",
       "       [ 500,    4,    7,   40],\n",
       "       [   0,   -4,   -5, -200]])"
      ]
     },
     "execution_count": 9,
     "metadata": {},
     "output_type": "execute_result"
    }
   ],
   "execution_count": 9
  },
  {
   "metadata": {
    "ExecuteTime": {
     "end_time": "2025-03-26T19:45:38.853483Z",
     "start_time": "2025-03-26T19:45:38.847894Z"
    }
   },
   "cell_type": "code",
   "source": "simplex_max(Xs, rows=['Z', 'D', 'K', 'F'], columns=['free', 'X1', 'X2', 'X3'])",
   "id": "b3f63c0c1b04c307",
   "outputs": [
    {
     "name": "stdout",
     "output_type": "stream",
     "text": [
      "iteration: 0\n",
      "    free   X1   X2     X3\n",
      "Z  400.0  5.0  4.0   50.0\n",
      "D  300.0  3.0  5.0   35.0\n",
      "K  500.0  4.0  7.0   40.0\n",
      "F    0.0 -4.0 -5.0 -200.0\n",
      "iteration: 1\n",
      "leading_col: 3\n",
      "      free    X1     X2     Z\n",
      "X3     8.0   0.1   0.08  0.02\n",
      "D     20.0  -0.5   2.20 -0.70\n",
      "K    180.0   0.0   3.80 -0.80\n",
      "F   1600.0  16.0  11.00  4.00\n",
      "[-35. -40. 200.]\n"
     ]
    },
    {
     "data": {
      "text/plain": [
       "{'X3': 8.0, 'D': 20.0, 'K': 180.0, 'F': 1600.0, 'X1': 0, 'X2': 0, 'Z': 0}"
      ]
     },
     "execution_count": 10,
     "metadata": {},
     "output_type": "execute_result"
    }
   ],
   "execution_count": 10
  },
  {
   "metadata": {
    "ExecuteTime": {
     "end_time": "2025-03-26T17:18:36.084667Z",
     "start_time": "2025-03-26T17:18:36.082212Z"
    }
   },
   "cell_type": "code",
   "source": [
    "U = {\n",
    "    (4, 'Маг'): {\n",
    "        'Z': 5,\n",
    "        'D': 3,\n",
    "        'K': 4,\n",
    "    },\n",
    "    (5, 'Рыцарь'): {\n",
    "        'Z': 4,\n",
    "        'D': 5,\n",
    "        'K': 7,\n",
    "    },\n",
    "    (50, 'Дракон'): {\n",
    "        'Z': 50,\n",
    "        'D': 35,\n",
    "        'K': 45,\n",
    "    }\n",
    "}\n",
    "\n",
    "R = {\n",
    "    'Z': 400,\n",
    "    'D': 300,\n",
    "    'K': 500,\n",
    "}"
   ],
   "id": "618f85a39b8dbced",
   "outputs": [],
   "execution_count": 15
  },
  {
   "metadata": {
    "ExecuteTime": {
     "end_time": "2025-03-26T17:18:36.506299Z",
     "start_time": "2025-03-26T17:18:36.502717Z"
    }
   },
   "cell_type": "code",
   "source": [
    "Xs = [[Rv] + [Uv[Rk] for Uk, Uv in U.items()] for Rk, Rv in R.items()] + [[0] + [-Uk[0] for Uk, Uv in U.items()]]\n",
    "np.array(Xs)"
   ],
   "id": "384f26becef73cd3",
   "outputs": [
    {
     "data": {
      "text/plain": [
       "array([[400,   5,   4,  50],\n",
       "       [300,   3,   5,  35],\n",
       "       [500,   4,   7,  45],\n",
       "       [  0,  -4,  -5, -50]])"
      ]
     },
     "execution_count": 16,
     "metadata": {},
     "output_type": "execute_result"
    }
   ],
   "execution_count": 16
  },
  {
   "metadata": {
    "ExecuteTime": {
     "end_time": "2025-03-26T17:18:37.082382Z",
     "start_time": "2025-03-26T17:18:37.075721Z"
    }
   },
   "cell_type": "code",
   "source": "simplex_max(Xs, rows=['Z', 'D', 'K', 'F'], columns=['free', 'X1', 'X2', 'X3'])",
   "id": "e2676042dd6e3e04",
   "outputs": [
    {
     "name": "stdout",
     "output_type": "stream",
     "text": [
      "iteration: 0\n",
      "    free   X1   X2    X3\n",
      "Z  400.0  5.0  4.0  50.0\n",
      "D  300.0  3.0  5.0  35.0\n",
      "K  500.0  4.0  7.0  45.0\n",
      "F    0.0 -4.0 -5.0 -50.0\n",
      "iteration: 1\n",
      "leading_col: 3\n",
      "     free   X1    X2     Z\n",
      "X3    8.0  0.1  0.08  0.02\n",
      "D    20.0 -0.5  2.20 -0.70\n",
      "K   140.0 -0.5  3.40 -0.90\n",
      "F   400.0  1.0 -1.00  1.00\n",
      "[-35. -45.  50.]\n",
      "iteration: 2\n",
      "leading_col: 2\n",
      "          free        X1         D         Z\n",
      "X2    9.090909 -0.227273  0.454545 -0.318182\n",
      "X3    7.272727  0.118182 -0.036364  0.045455\n",
      "K   109.090909  0.272727 -1.545455  0.181818\n",
      "F   409.090909  0.772727  0.454545  0.681818\n",
      "[-0.08 -3.4   1.  ]\n"
     ]
    },
    {
     "data": {
      "text/plain": [
       "{'X2': 9.090909090909092,\n",
       " 'X3': 7.2727272727272725,\n",
       " 'K': 109.0909090909091,\n",
       " 'F': 409.09090909090907,\n",
       " 'X1': 0,\n",
       " 'D': 0,\n",
       " 'Z': 0}"
      ]
     },
     "execution_count": 17,
     "metadata": {},
     "output_type": "execute_result"
    }
   ],
   "execution_count": 17
  },
  {
   "metadata": {
    "ExecuteTime": {
     "end_time": "2025-03-26T17:51:20.318295Z",
     "start_time": "2025-03-26T17:51:20.311141Z"
    }
   },
   "cell_type": "code",
   "source": [
    "U = {\n",
    "    (10, 'Маг'): {\n",
    "        'Z': 5,\n",
    "        'D': 1,\n",
    "        'K': 1,\n",
    "    },\n",
    "    (5, 'Рыцарь'): {\n",
    "        'Z': 4,\n",
    "        'D': 5,\n",
    "        'K': 7,\n",
    "    },\n",
    "    (200, 'Дракон'): {\n",
    "        'Z': 0,\n",
    "        'D': 35,\n",
    "        'K': 40,\n",
    "    }\n",
    "}\n",
    "\n",
    "R = {\n",
    "    'Z': 400,\n",
    "    'D': 300,\n",
    "    'K': 500,\n",
    "}\n",
    "Xs = [[Rv] + [Uv[Rk] for Uk, Uv in U.items()] for Rk, Rv in R.items()] + [[0] + [-Uk[0] for Uk, Uv in U.items()]]\n",
    "np.array(Xs)\n",
    "simplex_max(Xs, rows=['Z', 'D', 'K', 'F'], columns=['free', 'X1', 'X2', 'X3'])"
   ],
   "id": "f45eb691d45e361a",
   "outputs": [
    {
     "name": "stdout",
     "output_type": "stream",
     "text": [
      "iteration: 0\n",
      "    free    X1   X2     X3\n",
      "Z  400.0   5.0  4.0    0.0\n",
      "D  300.0   1.0  5.0   35.0\n",
      "K  500.0   1.0  7.0   40.0\n",
      "F    0.0 -10.0 -5.0 -200.0\n",
      "iteration: 1\n",
      "leading_col: 3\n",
      "           free        X1         X2         D\n",
      "X3     8.571429  0.028571   0.142857  0.028571\n",
      "Z    400.000000  5.000000   4.000000  0.000000\n",
      "K    157.142857 -0.142857   1.285714 -1.142857\n",
      "F   1714.285714 -4.285714  23.571429  5.714286\n",
      "[ -0. -40. 200.]\n",
      "iteration: 2\n",
      "leading_col: 1\n",
      "           free         Z     X2         D\n",
      "X1    80.000000  0.200000   0.80  0.000000\n",
      "X3     6.285714 -0.005714   0.12  0.028571\n",
      "K    168.571429  0.028571   1.40 -1.142857\n",
      "F   2057.142857  0.857143  27.00  5.714286\n",
      "[-0.02857143  0.14285714  4.28571429]\n"
     ]
    },
    {
     "data": {
      "text/plain": [
       "{'X1': 80.0,\n",
       " 'X3': 6.285714285714286,\n",
       " 'K': 168.57142857142858,\n",
       " 'F': 2057.142857142857,\n",
       " 'Z': 0,\n",
       " 'X2': 0,\n",
       " 'D': 0}"
      ]
     },
     "execution_count": 4,
     "metadata": {},
     "output_type": "execute_result"
    }
   ],
   "execution_count": 4
  },
  {
   "metadata": {},
   "cell_type": "code",
   "outputs": [],
   "execution_count": null,
   "source": "",
   "id": "472094c65f8a3295"
  }
 ],
 "metadata": {
  "kernelspec": {
   "display_name": "Python 3",
   "language": "python",
   "name": "python3"
  },
  "language_info": {
   "codemirror_mode": {
    "name": "ipython",
    "version": 2
   },
   "file_extension": ".py",
   "mimetype": "text/x-python",
   "name": "python",
   "nbconvert_exporter": "python",
   "pygments_lexer": "ipython2",
   "version": "2.7.6"
  }
 },
 "nbformat": 4,
 "nbformat_minor": 5
}
